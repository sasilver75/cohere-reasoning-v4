{
 "cells": [
  {
   "cell_type": "code",
   "execution_count": 8,
   "metadata": {},
   "outputs": [],
   "source": [
    "import pandas as pd"
   ]
  },
  {
   "cell_type": "code",
   "execution_count": 24,
   "metadata": {},
   "outputs": [
    {
     "name": "stdout",
     "output_type": "stream",
     "text": [
      "Index(['row_id', 'problem', 'ground_truth_solution', 'solution_idx',\n",
      "       'candidate_solution', 'verification_reasoning', 'verification',\n",
      "       'prefix'],\n",
      "      dtype='object')\n"
     ]
    },
    {
     "data": {
      "text/html": [
       "<div>\n",
       "<style scoped>\n",
       "    .dataframe tbody tr th:only-of-type {\n",
       "        vertical-align: middle;\n",
       "    }\n",
       "\n",
       "    .dataframe tbody tr th {\n",
       "        vertical-align: top;\n",
       "    }\n",
       "\n",
       "    .dataframe thead th {\n",
       "        text-align: right;\n",
       "    }\n",
       "</style>\n",
       "<table border=\"1\" class=\"dataframe\">\n",
       "  <thead>\n",
       "    <tr style=\"text-align: right;\">\n",
       "      <th></th>\n",
       "      <th>row_id</th>\n",
       "      <th>problem</th>\n",
       "      <th>ground_truth_solution</th>\n",
       "      <th>solution_idx</th>\n",
       "      <th>candidate_solution</th>\n",
       "      <th>verification_reasoning</th>\n",
       "      <th>verification</th>\n",
       "      <th>prefix</th>\n",
       "    </tr>\n",
       "  </thead>\n",
       "  <tbody>\n",
       "    <tr>\n",
       "      <th>0</th>\n",
       "      <td>1</td>\n",
       "      <td>If the point $(-1,2)$ lies on the graph of the...</td>\n",
       "      <td>Given that the point $(-1,2)$ lies on the grap...</td>\n",
       "      <td>0</td>\n",
       "      <td>We are given that the point $(-1, 2)$ lies on ...</td>\n",
       "      <td>The final answer in the ground truth solution ...</td>\n",
       "      <td>False</td>\n",
       "      <td>We are given that the point $(-1, 2)$ lies on ...</td>\n",
       "    </tr>\n",
       "    <tr>\n",
       "      <th>1</th>\n",
       "      <td>4</td>\n",
       "      <td>Simplify first, then evaluate: $3a^2b+2(ab-\\fr...</td>\n",
       "      <td>To simplify and then evaluate the given expres...</td>\n",
       "      <td>1</td>\n",
       "      <td>First, we need to determine the values of $a$ ...</td>\n",
       "      <td>The final answer provided in the ground truth ...</td>\n",
       "      <td>False</td>\n",
       "      <td>First, we need to determine the values of $a$ ...</td>\n",
       "    </tr>\n",
       "  </tbody>\n",
       "</table>\n",
       "</div>"
      ],
      "text/plain": [
       "   row_id                                            problem  \\\n",
       "0       1  If the point $(-1,2)$ lies on the graph of the...   \n",
       "1       4  Simplify first, then evaluate: $3a^2b+2(ab-\\fr...   \n",
       "\n",
       "                               ground_truth_solution  solution_idx  \\\n",
       "0  Given that the point $(-1,2)$ lies on the grap...             0   \n",
       "1  To simplify and then evaluate the given expres...             1   \n",
       "\n",
       "                                  candidate_solution  \\\n",
       "0  We are given that the point $(-1, 2)$ lies on ...   \n",
       "1  First, we need to determine the values of $a$ ...   \n",
       "\n",
       "                              verification_reasoning  verification  \\\n",
       "0  The final answer in the ground truth solution ...         False   \n",
       "1  The final answer provided in the ground truth ...         False   \n",
       "\n",
       "                                              prefix  \n",
       "0  We are given that the point $(-1, 2)$ lies on ...  \n",
       "1  First, we need to determine the values of $a$ ...  "
      ]
     },
     "execution_count": 24,
     "metadata": {},
     "output_type": "execute_result"
    }
   ],
   "source": [
    "df = pd.read_csv(\"datasets/cn_k12_math_problems_srip_command-r-plus-08-2024_2_2.csv\")\n",
    "print(df.columns)\n",
    "df.head()"
   ]
  },
  {
   "cell_type": "code",
   "execution_count": 23,
   "metadata": {},
   "outputs": [
    {
     "data": {
      "text/plain": [
       "'If the point $(-1,2)$ lies on the graph of the inverse proportion function $y=\\\\frac{k}{x}$ (where $k$ is a constant and $k\\\\neq 0$), then which of the following statements about this function is correct?\\n\\nA: The graph of the function passes through the point $(1,2)$.\\n\\nB: The graph of the function lies in the first and third quadrants.\\n\\nC: The value of $y$ increases as $x$ increases.\\n\\nD: When $x < -1$, the value of $y$ increases as $x$ increases.'"
      ]
     },
     "execution_count": 23,
     "metadata": {},
     "output_type": "execute_result"
    }
   ],
   "source": [
    "df[df[\"row_id\"] == 1].iloc[0][\"problem\"]"
   ]
  },
  {
   "cell_type": "code",
   "execution_count": 1,
   "metadata": {},
   "outputs": [
    {
     "name": "stdout",
     "output_type": "stream",
     "text": [
      "[1, 4]\n"
     ]
    }
   ],
   "source": [
    "# Read the lines from the text file into a list\n",
    "with open(\"datasets/cn_k12_math_problems_sri_command-r-plus-08-2024_2.txt\", \"r\") as file:\n",
    "    solvable_row_ids = [line.strip() for line in file if line.strip()]\n",
    "\n",
    "# Convert the row IDs to integers\n",
    "solvable_row_ids = [int(row_id) for row_id in solvable_row_ids]\n",
    "\n",
    "print(solvable_row_ids)\n"
   ]
  },
  {
   "cell_type": "code",
   "execution_count": 5,
   "metadata": {},
   "outputs": [],
   "source": [
    "input_filename = \"datasets/cn_k12_math_problems_srip_command-r-plus-08-2024_2_2.csv\"\n",
    "\n"
   ]
  },
  {
   "cell_type": "code",
   "execution_count": 6,
   "metadata": {},
   "outputs": [
    {
     "data": {
      "text/html": [
       "<div>\n",
       "<style scoped>\n",
       "    .dataframe tbody tr th:only-of-type {\n",
       "        vertical-align: middle;\n",
       "    }\n",
       "\n",
       "    .dataframe tbody tr th {\n",
       "        vertical-align: top;\n",
       "    }\n",
       "\n",
       "    .dataframe thead th {\n",
       "        text-align: right;\n",
       "    }\n",
       "</style>\n",
       "<table border=\"1\" class=\"dataframe\">\n",
       "  <thead>\n",
       "    <tr style=\"text-align: right;\">\n",
       "      <th></th>\n",
       "      <th>row_id</th>\n",
       "      <th>problem</th>\n",
       "      <th>ground_truth_solution</th>\n",
       "      <th>solution_idx</th>\n",
       "      <th>candidate_solution</th>\n",
       "      <th>verification_reasoning</th>\n",
       "      <th>verification</th>\n",
       "      <th>prefix</th>\n",
       "    </tr>\n",
       "  </thead>\n",
       "  <tbody>\n",
       "    <tr>\n",
       "      <th>0</th>\n",
       "      <td>1</td>\n",
       "      <td>If the point $(-1,2)$ lies on the graph of the...</td>\n",
       "      <td>Given that the point $(-1,2)$ lies on the grap...</td>\n",
       "      <td>0</td>\n",
       "      <td>We are given that the point $(-1, 2)$ lies on ...</td>\n",
       "      <td>The final answer in the ground truth solution ...</td>\n",
       "      <td>False</td>\n",
       "      <td>We are given that the point $(-1, 2)$ lies on ...</td>\n",
       "    </tr>\n",
       "    <tr>\n",
       "      <th>1</th>\n",
       "      <td>4</td>\n",
       "      <td>Simplify first, then evaluate: $3a^2b+2(ab-\\fr...</td>\n",
       "      <td>To simplify and then evaluate the given expres...</td>\n",
       "      <td>1</td>\n",
       "      <td>First, we need to determine the values of $a$ ...</td>\n",
       "      <td>The final answer provided in the ground truth ...</td>\n",
       "      <td>False</td>\n",
       "      <td>First, we need to determine the values of $a$ ...</td>\n",
       "    </tr>\n",
       "  </tbody>\n",
       "</table>\n",
       "</div>"
      ],
      "text/plain": [
       "   row_id                                            problem  \\\n",
       "0       1  If the point $(-1,2)$ lies on the graph of the...   \n",
       "1       4  Simplify first, then evaluate: $3a^2b+2(ab-\\fr...   \n",
       "\n",
       "                               ground_truth_solution  solution_idx  \\\n",
       "0  Given that the point $(-1,2)$ lies on the grap...             0   \n",
       "1  To simplify and then evaluate the given expres...             1   \n",
       "\n",
       "                                  candidate_solution  \\\n",
       "0  We are given that the point $(-1, 2)$ lies on ...   \n",
       "1  First, we need to determine the values of $a$ ...   \n",
       "\n",
       "                              verification_reasoning  verification  \\\n",
       "0  The final answer in the ground truth solution ...         False   \n",
       "1  The final answer provided in the ground truth ...         False   \n",
       "\n",
       "                                              prefix  \n",
       "0  We are given that the point $(-1, 2)$ lies on ...  \n",
       "1  First, we need to determine the values of $a$ ...  "
      ]
     },
     "execution_count": 6,
     "metadata": {},
     "output_type": "execute_result"
    }
   ],
   "source": [
    "df = pd.read_csv(input_filename)\n",
    "df.head(15)"
   ]
  },
  {
   "cell_type": "code",
   "execution_count": 11,
   "metadata": {},
   "outputs": [
    {
     "name": "stdout",
     "output_type": "stream",
     "text": [
      "<class 'pandas.core.series.Series'>\n"
     ]
    },
    {
     "data": {
      "text/plain": [
       "row_id\n",
       "0    0.0\n",
       "1    0.5\n",
       "2    1.0\n",
       "3    0.0\n",
       "4    0.5\n",
       "Name: verification, dtype: float64"
      ]
     },
     "execution_count": 11,
     "metadata": {},
     "output_type": "execute_result"
    }
   ],
   "source": [
    "completion_success_rates = df.groupby(\"row_id\")[\"verification\"].mean()\n",
    "print(type(completion_success_rates))\n",
    "completion_success_rates"
   ]
  },
  {
   "cell_type": "code",
   "execution_count": 15,
   "metadata": {},
   "outputs": [
    {
     "name": "stdout",
     "output_type": "stream",
     "text": [
      "row_id\n",
      "1    0.5\n",
      "4    0.5\n",
      "Name: verification, dtype: float64\n"
     ]
    }
   ],
   "source": [
    "solvable_problems = completion_success_rates[(completion_success_rates >= 0.2) & (completion_success_rates <= 0.8)]\n",
    "print(solvable_problems)\n"
   ]
  },
  {
   "cell_type": "code",
   "execution_count": 17,
   "metadata": {},
   "outputs": [
    {
     "data": {
      "text/plain": [
       "[1, 4]"
      ]
     },
     "execution_count": 17,
     "metadata": {},
     "output_type": "execute_result"
    }
   ],
   "source": [
    "solvable_row_ids = solvable_problems.index.tolist()\n",
    "solvable_row_ids"
   ]
  },
  {
   "cell_type": "code",
   "execution_count": 18,
   "metadata": {},
   "outputs": [
    {
     "data": {
      "text/html": [
       "<div>\n",
       "<style scoped>\n",
       "    .dataframe tbody tr th:only-of-type {\n",
       "        vertical-align: middle;\n",
       "    }\n",
       "\n",
       "    .dataframe tbody tr th {\n",
       "        vertical-align: top;\n",
       "    }\n",
       "\n",
       "    .dataframe thead th {\n",
       "        text-align: right;\n",
       "    }\n",
       "</style>\n",
       "<table border=\"1\" class=\"dataframe\">\n",
       "  <thead>\n",
       "    <tr style=\"text-align: right;\">\n",
       "      <th></th>\n",
       "      <th>row_id</th>\n",
       "      <th>problem</th>\n",
       "      <th>ground_truth_solution</th>\n",
       "      <th>solution_idx</th>\n",
       "      <th>candidate_solution</th>\n",
       "      <th>verification_reasoning</th>\n",
       "      <th>verification</th>\n",
       "    </tr>\n",
       "  </thead>\n",
       "  <tbody>\n",
       "    <tr>\n",
       "      <th>2</th>\n",
       "      <td>1</td>\n",
       "      <td>If the point $(-1,2)$ lies on the graph of the...</td>\n",
       "      <td>Given that the point $(-1,2)$ lies on the grap...</td>\n",
       "      <td>0</td>\n",
       "      <td>We are given that the point $(-1, 2)$ lies on ...</td>\n",
       "      <td>The final answer in the ground truth solution ...</td>\n",
       "      <td>False</td>\n",
       "    </tr>\n",
       "    <tr>\n",
       "      <th>3</th>\n",
       "      <td>1</td>\n",
       "      <td>If the point $(-1,2)$ lies on the graph of the...</td>\n",
       "      <td>Given that the point $(-1,2)$ lies on the grap...</td>\n",
       "      <td>1</td>\n",
       "      <td>We are given the point $(-1, 2)$ on the graph ...</td>\n",
       "      <td>The final answer in the ground truth solution ...</td>\n",
       "      <td>True</td>\n",
       "    </tr>\n",
       "    <tr>\n",
       "      <th>8</th>\n",
       "      <td>4</td>\n",
       "      <td>Simplify first, then evaluate: $3a^2b+2(ab-\\fr...</td>\n",
       "      <td>To simplify and then evaluate the given expres...</td>\n",
       "      <td>0</td>\n",
       "      <td>We can simplify the given expression as follow...</td>\n",
       "      <td>The final answer from the ground truth solutio...</td>\n",
       "      <td>True</td>\n",
       "    </tr>\n",
       "    <tr>\n",
       "      <th>9</th>\n",
       "      <td>4</td>\n",
       "      <td>Simplify first, then evaluate: $3a^2b+2(ab-\\fr...</td>\n",
       "      <td>To simplify and then evaluate the given expres...</td>\n",
       "      <td>1</td>\n",
       "      <td>First, we need to determine the values of $a$ ...</td>\n",
       "      <td>The final answer provided in the ground truth ...</td>\n",
       "      <td>False</td>\n",
       "    </tr>\n",
       "  </tbody>\n",
       "</table>\n",
       "</div>"
      ],
      "text/plain": [
       "   row_id                                            problem  \\\n",
       "2       1  If the point $(-1,2)$ lies on the graph of the...   \n",
       "3       1  If the point $(-1,2)$ lies on the graph of the...   \n",
       "8       4  Simplify first, then evaluate: $3a^2b+2(ab-\\fr...   \n",
       "9       4  Simplify first, then evaluate: $3a^2b+2(ab-\\fr...   \n",
       "\n",
       "                               ground_truth_solution  solution_idx  \\\n",
       "2  Given that the point $(-1,2)$ lies on the grap...             0   \n",
       "3  Given that the point $(-1,2)$ lies on the grap...             1   \n",
       "8  To simplify and then evaluate the given expres...             0   \n",
       "9  To simplify and then evaluate the given expres...             1   \n",
       "\n",
       "                                  candidate_solution  \\\n",
       "2  We are given that the point $(-1, 2)$ lies on ...   \n",
       "3  We are given the point $(-1, 2)$ on the graph ...   \n",
       "8  We can simplify the given expression as follow...   \n",
       "9  First, we need to determine the values of $a$ ...   \n",
       "\n",
       "                              verification_reasoning  verification  \n",
       "2  The final answer in the ground truth solution ...         False  \n",
       "3  The final answer in the ground truth solution ...          True  \n",
       "8  The final answer from the ground truth solutio...          True  \n",
       "9  The final answer provided in the ground truth ...         False  "
      ]
     },
     "execution_count": 18,
     "metadata": {},
     "output_type": "execute_result"
    }
   ],
   "source": [
    "interesting_df_subset = df[df[\"row_id\"].isin(solvable_row_ids)]\n",
    "interesting_df_subset.head(15)"
   ]
  },
  {
   "cell_type": "code",
   "execution_count": 19,
   "metadata": {},
   "outputs": [
    {
     "data": {
      "text/html": [
       "<div>\n",
       "<style scoped>\n",
       "    .dataframe tbody tr th:only-of-type {\n",
       "        vertical-align: middle;\n",
       "    }\n",
       "\n",
       "    .dataframe tbody tr th {\n",
       "        vertical-align: top;\n",
       "    }\n",
       "\n",
       "    .dataframe thead th {\n",
       "        text-align: right;\n",
       "    }\n",
       "</style>\n",
       "<table border=\"1\" class=\"dataframe\">\n",
       "  <thead>\n",
       "    <tr style=\"text-align: right;\">\n",
       "      <th></th>\n",
       "      <th>row_id</th>\n",
       "      <th>problem</th>\n",
       "      <th>ground_truth_solution</th>\n",
       "      <th>solution_idx</th>\n",
       "      <th>candidate_solution</th>\n",
       "      <th>verification_reasoning</th>\n",
       "      <th>verification</th>\n",
       "    </tr>\n",
       "  </thead>\n",
       "  <tbody>\n",
       "    <tr>\n",
       "      <th>2</th>\n",
       "      <td>1</td>\n",
       "      <td>If the point $(-1,2)$ lies on the graph of the...</td>\n",
       "      <td>Given that the point $(-1,2)$ lies on the grap...</td>\n",
       "      <td>0</td>\n",
       "      <td>We are given that the point $(-1, 2)$ lies on ...</td>\n",
       "      <td>The final answer in the ground truth solution ...</td>\n",
       "      <td>False</td>\n",
       "    </tr>\n",
       "    <tr>\n",
       "      <th>9</th>\n",
       "      <td>4</td>\n",
       "      <td>Simplify first, then evaluate: $3a^2b+2(ab-\\fr...</td>\n",
       "      <td>To simplify and then evaluate the given expres...</td>\n",
       "      <td>1</td>\n",
       "      <td>First, we need to determine the values of $a$ ...</td>\n",
       "      <td>The final answer provided in the ground truth ...</td>\n",
       "      <td>False</td>\n",
       "    </tr>\n",
       "  </tbody>\n",
       "</table>\n",
       "</div>"
      ],
      "text/plain": [
       "   row_id                                            problem  \\\n",
       "2       1  If the point $(-1,2)$ lies on the graph of the...   \n",
       "9       4  Simplify first, then evaluate: $3a^2b+2(ab-\\fr...   \n",
       "\n",
       "                               ground_truth_solution  solution_idx  \\\n",
       "2  Given that the point $(-1,2)$ lies on the grap...             0   \n",
       "9  To simplify and then evaluate the given expres...             1   \n",
       "\n",
       "                                  candidate_solution  \\\n",
       "2  We are given that the point $(-1, 2)$ lies on ...   \n",
       "9  First, we need to determine the values of $a$ ...   \n",
       "\n",
       "                              verification_reasoning  verification  \n",
       "2  The final answer in the ground truth solution ...         False  \n",
       "9  The final answer provided in the ground truth ...         False  "
      ]
     },
     "execution_count": 19,
     "metadata": {},
     "output_type": "execute_result"
    }
   ],
   "source": [
    "interesting_df_incorrect_subset = interesting_df_subset[~interesting_df_subset[\"verification\"]]\n",
    "interesting_df_incorrect_subset.head(15)"
   ]
  }
 ],
 "metadata": {
  "kernelspec": {
   "display_name": "venv",
   "language": "python",
   "name": "python3"
  },
  "language_info": {
   "codemirror_mode": {
    "name": "ipython",
    "version": 3
   },
   "file_extension": ".py",
   "mimetype": "text/x-python",
   "name": "python",
   "nbconvert_exporter": "python",
   "pygments_lexer": "ipython3",
   "version": "3.12.6"
  }
 },
 "nbformat": 4,
 "nbformat_minor": 2
}
