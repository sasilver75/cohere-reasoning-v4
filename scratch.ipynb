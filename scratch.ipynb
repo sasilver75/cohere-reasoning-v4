{
 "cells": [
  {
   "cell_type": "code",
   "execution_count": 1,
   "metadata": {},
   "outputs": [],
   "source": [
    "import pandas as pd\n",
    "import numpy as np"
   ]
  },
  {
   "cell_type": "code",
   "execution_count": 10,
   "metadata": {},
   "outputs": [
    {
     "name": "stdout",
     "output_type": "stream",
     "text": [
      "Found 191 solvable problem row IDs\n"
     ]
    },
    {
     "data": {
      "text/plain": [
       "340    Among the following functions, the one that gr...\n",
       "Name: problem, dtype: object"
      ]
     },
     "execution_count": 10,
     "metadata": {},
     "output_type": "execute_result"
    }
   ],
   "source": [
    "with open(\"datasets/cn_k12_math_problems_si_command-r-plus-08-2024_191.txt\", \"r\") as f:\n",
    "        row_ids = set(int(line.strip()) for line in f)\n",
    "print(f\"Found {len(row_ids)} solvable problem row IDs\")\n",
    "\n",
    "df = pd.read_csv(\"datasets/original/cn_k12_math_problems.csv\")\n",
    "\n"
   ]
  },
  {
   "cell_type": "code",
   "execution_count": 12,
   "metadata": {},
   "outputs": [
    {
     "name": "stdout",
     "output_type": "stream",
     "text": [
      "Among the following functions, the one that grows the fastest in the interval $(0, +\\infty)$ is ( )\n",
      "A: $y=2$\n",
      "B: $y=2^x$\n",
      "C: $y=x^2$\n",
      "D: $y=\\log_2{x}$\n"
     ]
    }
   ],
   "source": [
    "print(df[df[\"id\"] == 340].iloc[0][\"problem\"])"
   ]
  },
  {
   "cell_type": "code",
   "execution_count": 13,
   "metadata": {},
   "outputs": [],
   "source": [
    "df = pd.read_csv(\"datasets/cn_k12_math_problems_ss_command-r-plus-08-2024_500_5.csv\")\n"
   ]
  },
  {
   "cell_type": "code",
   "execution_count": 22,
   "metadata": {},
   "outputs": [
    {
     "data": {
      "text/plain": [
       "'Since the function $y=2x$ is a proportional function, $y=2^x$ is an exponential function, $y=x^2$ is a power function, and $y=\\\\log_2{x}$ is a logarithmic function, and because the exponential function grows the fastest,\\n\\nTherefore, the correct answer is $\\\\boxed{B}$.'"
      ]
     },
     "execution_count": 22,
     "metadata": {},
     "output_type": "execute_result"
    }
   ],
   "source": [
    "df[df[\"row_id\"] == 340].iloc[0][\"ground_truth_solution\"]"
   ]
  },
  {
   "cell_type": "code",
   "execution_count": 19,
   "metadata": {},
   "outputs": [
    {
     "name": "stdout",
     "output_type": "stream",
     "text": [
      "We can quickly eliminate options A and B. Option A is a constant function, so it doesn't grow at all. Option B is an exponential function, which grows faster than any power function, but it's still slower than some other functions.\n",
      "\n",
      "Now, let's compare options C and D:\n",
      "\n",
      "- Option C: $y=x^2$ is a polynomial function. As $x$ increases, $y$ increases, but at a slower rate compared to exponential functions.\n",
      "- Option D: $y=\\log_2{x}$ is a logarithmic function with base 2. As $x$ increases, $y$ increases very slowly.\n",
      "\n",
      "To determine which grows faster, we can look at their derivatives:\n",
      "\n",
      "- The derivative of $y=x^2$ is $dy/dx = 2x$.\n",
      "- The derivative of $y=\\log_2{x}$ is $dy/dx = 1/(x\\ln(2))$, where $\\ln(2)$ is the natural logarithm of 2.\n",
      "\n",
      "As $x$ approaches infinity, the derivative of $y=x^2$ also approaches infinity, while the derivative of $y=\\log_2{x}$ approaches zero. This means that the growth rate of $y=x^2$ is much faster than that of $y=\\log_2{x}$ as $x$ increases.\n",
      "\n",
      "Therefore, the function that grows the fastest in the interval $(0, +\\infty)$ is **boxed: C: $y=x^2$**.\n",
      "\n",
      "\n",
      "\n",
      "We can quickly eliminate options A and B, since $2^x$ grows faster than $2$ for $x>1$.\n",
      "\n",
      "Now, to compare the growth rates of $x^2$ and $\\log_2{x}$, we can take the limit of their ratio as $x$ approaches infinity:\n",
      "\n",
      "$$\n",
      "\\begin{align*}\n",
      "\\lim_{x \\to \\infty} \\frac{x^2}{\\log_2{x}} &= \\lim_{x \\to \\infty} \\frac{2x}{\\frac{1}{x}\\log_2{x}} \\\\\n",
      "&= \\lim_{x \\to \\infty} \\frac{2x}{\\log_2{e}\\cdot \\frac{1}{x}} \\\\\n",
      "&= \\lim_{x \\to \\infty} 2x^2 \\log_2{e} \\\\\n",
      "&= \\infty.\n",
      "\\end{align*}\n",
      "$$\n",
      "\n",
      "Since the limit is infinity, this means that $x^2$ grows faster than $\\log_2{x}$ as $x$ approaches infinity.\n",
      "\n",
      "Therefore, the function that grows the fastest in the interval $(0, +\\infty)$ is $\\boxed{C: y=x^2}$.\n",
      "\n",
      "\n",
      "\n"
     ]
    }
   ],
   "source": [
    "for sol in df[(df[\"row_id\"] == 340) & (df[\"verification\"] == False)][\"candidate_solution\"]:\n",
    "    print(sol)\n",
    "    print(\"\\n\\n\")"
   ]
  }
 ],
 "metadata": {
  "kernelspec": {
   "display_name": "venv",
   "language": "python",
   "name": "python3"
  },
  "language_info": {
   "codemirror_mode": {
    "name": "ipython",
    "version": 3
   },
   "file_extension": ".py",
   "mimetype": "text/x-python",
   "name": "python",
   "nbconvert_exporter": "python",
   "pygments_lexer": "ipython3",
   "version": "3.12.6"
  }
 },
 "nbformat": 4,
 "nbformat_minor": 2
}
